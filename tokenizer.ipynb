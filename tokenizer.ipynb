{
 "cells": [
  {
   "cell_type": "code",
   "execution_count": 34,
   "metadata": {},
   "outputs": [
    {
     "name": "stdout",
     "output_type": "stream",
     "text": [
      "['canvas', '(', '100', ',', '50', ')', '', '\\n', '']\n",
      "['Rectangle', ' ', 'rect', '\\n', '']\n",
      "['rect', '.', 'size', '(', '10', ',', '', ' ', '20', ',', '', ' ', '20', ',', '', ' ', '40', ')', '', '\\n', '']\n",
      "['rect', '.', 'outline', '(', '1', ',', '', ' ', 'rgb', '(', '0', ',', '0', ',', '0', ')', '', ',', '', ' ', '50', ')', '', '\\n', '']\n",
      "['rect', '.', 'fill', '(', 'rgb', '(', '0', ',', '0', ',', '0', ')', '', ',', '', ' ', '50', ')', '']\n"
     ]
    }
   ],
   "source": [
    "import re\n",
    "REGEX_SEPARATOR = \",|;|\\s+\"\n",
    "REGEX_MATH_OPS = \"\\++|\\--|\\-\\+|\\*|\\\\\"\n",
    "REGEX_COND_OPS = \"<=|<|>|>=\"\n",
    "REGEX_COMMON_OPS = \"\\(|\\)|\\{|\\}|\\.\"\n",
    "REGEX_RESERVED = \"for|size|fill|outline|canvas|rgb|if|else|draw| Rectangle|Square|Circle|Dot|Arc|Straight\"\n",
    "REGEX_IDENTIFIER = \"[a-zA-Z][a-zA-Z0-9]+\"\n",
    "REGEX_INTEGER = \"[0-9]+\"\n",
    "\n",
    "def IsValidToken(token, REGEX_PATTERN):\n",
    "    matched = re.match(REGEX_PATTERN, token)\n",
    "    return bool(matched)\n",
    "\n",
    "def IdentifyToken(token):\n",
    "    if(IsValidToken(token, REGEX_MATH_OPS) == True):\n",
    "        return token, \"MathOperator\"\n",
    "    if(IsValidToken(token, REGEX_COND_OPS) == True):\n",
    "        return token, \"ConditionOperator\"\n",
    "    if(IsValidToken(token, REGEX_COMMON_OPS) == True):\n",
    "        return token, \"CommonOperator\"\n",
    "    if(IsValidToken(token, REGEX_RESERVED) == True):\n",
    "        return token, \"ReservedWords\"\n",
    "    if(IsValidToken(token, REGEX_IDENTIFIER) == True):\n",
    "        return token, \"Identifier\"\n",
    "    if(IsValidToken(token, REGEX_INTEGER) == True):\n",
    "        return token, \"Integer\"\n",
    "    return \"ERROR\",\"Invalid Token!\"\n",
    "\n",
    "def Tokenizer(line):\n",
    "    token = \"\"\n",
    "    tokenLst = []\n",
    "    for c in line:\n",
    "        if((IsValidToken(c, REGEX_SEPARATOR) == True)\n",
    "        or (IsValidToken(c, REGEX_COMMON_OPS) == True)):\n",
    "            tokenLst.append(token)\n",
    "            tokenLst.append(c)\n",
    "            token = \"\"\n",
    "        else:\n",
    "            token += c\n",
    "    tokenLst.append(token)\n",
    "    return tokenLst\n",
    "\n",
    "def ReadSourceFile(path):\n",
    "    lines = []\n",
    "    with open(path) as f:\n",
    "        lines = f.readlines()\n",
    "    return lines\n",
    "\n",
    "def Main():\n",
    "    lines = ReadSourceFile('sample.art')\n",
    "    if lines:\n",
    "        for line in lines:\n",
    "            tokenLst = Tokenizer(line)\n",
    "            print(tokenLst)\n",
    "    else:\n",
    "        print('Source File is empty!')\n",
    "\n",
    "Main()"
   ]
  }
 ],
 "metadata": {
  "interpreter": {
   "hash": "afc4294dd615e2d785840fd0138483eb0a8023089414d2420921df548efcdffc"
  },
  "kernelspec": {
   "display_name": "Python 3.9.4 64-bit",
   "language": "python",
   "name": "python3"
  },
  "language_info": {
   "codemirror_mode": {
    "name": "ipython",
    "version": 3
   },
   "file_extension": ".py",
   "mimetype": "text/x-python",
   "name": "python",
   "nbconvert_exporter": "python",
   "pygments_lexer": "ipython3",
   "version": "3.9.4"
  },
  "orig_nbformat": 4
 },
 "nbformat": 4,
 "nbformat_minor": 2
}
