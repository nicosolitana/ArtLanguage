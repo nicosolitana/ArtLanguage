{
 "cells": [
  {
   "cell_type": "code",
   "execution_count": 7,
   "metadata": {},
   "outputs": [
    {
     "name": "stdout",
     "output_type": "stream",
     "text": [
      "[INFO] Tokenizing source code...\n",
      "[INFO] Parsing source code...\n",
      "[INFO] Interpreting Source code...\n"
     ]
    }
   ],
   "source": [
    "from resources.art import Art\n",
    "artPL = Art('sample.art')\n",
    "artPL.Execute()\n",
    "exec(artPL.runnable)"
   ]
  }
 ],
 "metadata": {
  "interpreter": {
   "hash": "afc4294dd615e2d785840fd0138483eb0a8023089414d2420921df548efcdffc"
  },
  "kernelspec": {
   "display_name": "Python 3.9.4 64-bit",
   "language": "python",
   "name": "python3"
  },
  "language_info": {
   "codemirror_mode": {
    "name": "ipython",
    "version": 3
   },
   "file_extension": ".py",
   "mimetype": "text/x-python",
   "name": "python",
   "nbconvert_exporter": "python",
   "pygments_lexer": "ipython3",
   "version": "3.9.4"
  },
  "orig_nbformat": 4
 },
 "nbformat": 4,
 "nbformat_minor": 2
}
